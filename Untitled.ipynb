{
 "cells": [
  {
   "cell_type": "code",
   "execution_count": 1,
   "metadata": {},
   "outputs": [
    {
     "ename": "ModuleNotFoundError",
     "evalue": "No module named 'data'",
     "output_type": "error",
     "traceback": [
      "\u001b[1;31m---------------------------------------------------------------------------\u001b[0m",
      "\u001b[1;31mModuleNotFoundError\u001b[0m                       Traceback (most recent call last)",
      "\u001b[1;32m<ipython-input-1-30d97fbb2685>\u001b[0m in \u001b[0;36m<module>\u001b[1;34m\u001b[0m\n\u001b[0;32m      1\u001b[0m \u001b[1;32mimport\u001b[0m \u001b[0mpraw\u001b[0m\u001b[1;33m\u001b[0m\u001b[1;33m\u001b[0m\u001b[0m\n\u001b[1;32m----> 2\u001b[1;33m \u001b[1;32mfrom\u001b[0m \u001b[0mdata\u001b[0m \u001b[1;32mimport\u001b[0m \u001b[1;33m*\u001b[0m\u001b[1;33m\u001b[0m\u001b[1;33m\u001b[0m\u001b[0m\n\u001b[0m\u001b[0;32m      3\u001b[0m \u001b[1;32mimport\u001b[0m \u001b[0mtime\u001b[0m\u001b[1;33m\u001b[0m\u001b[1;33m\u001b[0m\u001b[0m\n\u001b[0;32m      4\u001b[0m \u001b[1;32mimport\u001b[0m \u001b[0mpandas\u001b[0m \u001b[1;32mas\u001b[0m \u001b[0mpd\u001b[0m\u001b[1;33m\u001b[0m\u001b[1;33m\u001b[0m\u001b[0m\n\u001b[0;32m      5\u001b[0m \u001b[1;32mimport\u001b[0m \u001b[0mmatplotlib\u001b[0m\u001b[1;33m.\u001b[0m\u001b[0mpyplot\u001b[0m \u001b[1;32mas\u001b[0m \u001b[0mplt\u001b[0m\u001b[1;33m\u001b[0m\u001b[1;33m\u001b[0m\u001b[0m\n",
      "\u001b[1;31mModuleNotFoundError\u001b[0m: No module named 'data'"
     ]
    }
   ],
   "source": [
    "import praw\n",
    "from data import *\n",
    "import time\n",
    "import pandas as pd\n",
    "import matplotlib.pyplot as plt\n",
    "import squarify\n",
    "from nltk.sentiment.vader import SentimentIntensityAnalyzer\n"
   ]
  },
  {
   "cell_type": "code",
   "execution_count": null,
   "metadata": {},
   "outputs": [],
   "source": []
  },
  {
   "cell_type": "code",
   "execution_count": null,
   "metadata": {},
   "outputs": [],
   "source": [
    "start_time = time.time()\n",
    "reddit = praw.Reddit(user_agent=\"Due-Ad-3957\",\n",
    "    client_id=\"85l9bZnfpIYGWw\",\n",
    "    client_secret=\"3kfGTZV-dUKSB-A7IMxepHkLLEL9XA\")"
   ]
  },
  {
   "cell_type": "code",
   "execution_count": null,
   "metadata": {},
   "outputs": [],
   "source": []
  },
  {
   "cell_type": "code",
   "execution_count": null,
   "metadata": {},
   "outputs": [],
   "source": [
    "# set the program parameters\n",
    "subs = ['wallstreetbets' ]     # sub-reddit to search\n",
    "post_flairs = {'Daily Discussion', 'Weekend Discussion', 'Discussion'}    # posts flairs to search || None flair is automatically considered\n",
    "goodAuth = {'AutoModerator'}   # authors whom comments are allowed more than once\n",
    "uniqueCmt = True                # allow one comment per author per symbol\n",
    "ignoreAuthP = {'example'}       # authors to ignore for posts \n",
    "ignoreAuthC = {'example'}       # authors to ignore for comment \n",
    "upvoteRatio = 0.70         # upvote ratio for post to be considered, 0.70 = 70%\n",
    "ups = 20       # define # of upvotes, post is considered if upvotes exceed this #\n",
    "limit = 500     # define the limit, comments 'replace more' limit\n",
    "upvotes = 2     # define # of upvotes, comment is considered if upvotes exceed this #\n",
    "picks = 10     # define # of picks here, prints as \"Top ## picks are:\"\n",
    "picks_ayz = 5   # define # of picks for sentiment analysis"
   ]
  },
  {
   "cell_type": "code",
   "execution_count": null,
   "metadata": {},
   "outputs": [],
   "source": []
  },
  {
   "cell_type": "code",
   "execution_count": null,
   "metadata": {},
   "outputs": [],
   "source": [
    "posts, count, c_analyzed, tickers, titles, a_comments = 0, 0, 0, {}, [], {}\n",
    "cmt_auth = {}\n",
    "\n",
    "\n",
    "for sub in subs:\n",
    "    subreddit = reddit.subreddit(sub)\n",
    "    hot_python = subreddit.hot()    # sorting posts by hot\n",
    "    # Extracting comments, symbols from subreddit\n",
    "    for submission in hot_python:\n",
    "        flair = submission.link_flair_text \n",
    "        author = submission.author.name         \n",
    "        \n",
    "        # checking: post upvote ratio # of upvotes, post flair, and author \n",
    "        if submission.upvote_ratio >= upvoteRatio and submission.ups > ups and (flair in post_flairs or flair is None) and author not in ignoreAuthP:   \n",
    "            submission.comment_sort = 'new'     \n",
    "            comments = submission.comments\n",
    "            titles.append(submission.title)\n",
    "            posts += 1\n",
    "            try: \n",
    "                submission.comments.replace_more(limit=limit)   \n",
    "                for comment in comments:\n",
    "                    # try except for deleted account?\n",
    "                    try: auth = comment.author.name\n",
    "                    except: pass\n",
    "                    c_analyzed += 1\n",
    "                    \n",
    "                    # checking: comment upvotes and author\n",
    "                    if comment.score > upvotes and auth not in ignoreAuthC:      \n",
    "                        split = comment.body.split(\" \")\n",
    "                        for word in split:\n",
    "                            word = word.replace(\"$\", \"\")        \n",
    "                            # upper = ticker, length of ticker <= 5, excluded words,                     \n",
    "                            if word.isupper() and len(word) <= 5 and word not in blacklist and word in us:\n",
    "                                \n",
    "                                # unique comments, try/except for key errors\n",
    "                                if uniqueCmt and auth not in goodAuth:\n",
    "                                    try: \n",
    "                                        if auth in cmt_auth[word]: break\n",
    "                                    except: pass\n",
    "                                    \n",
    "                                # counting tickers\n",
    "                                if word in tickers:\n",
    "                                    tickers[word] += 1\n",
    "                                    a_comments[word].append(comment.body)\n",
    "                                    cmt_auth[word].append(auth)\n",
    "                                    count += 1\n",
    "                                else:                               \n",
    "                                    tickers[word] = 1\n",
    "                                    cmt_auth[word] = [auth]\n",
    "                                    a_comments[word] = [comment.body]\n",
    "                                    count += 1   \n",
    "            except Exception as e: print(e)"
   ]
  },
  {
   "cell_type": "code",
   "execution_count": null,
   "metadata": {},
   "outputs": [],
   "source": []
  }
 ],
 "metadata": {
  "kernelspec": {
   "display_name": "Python 3",
   "language": "python",
   "name": "python3"
  },
  "language_info": {
   "codemirror_mode": {
    "name": "ipython",
    "version": 3
   },
   "file_extension": ".py",
   "mimetype": "text/x-python",
   "name": "python",
   "nbconvert_exporter": "python",
   "pygments_lexer": "ipython3",
   "version": "3.7.6"
  }
 },
 "nbformat": 4,
 "nbformat_minor": 4
}
